{
 "cells": [
  {
   "cell_type": "code",
   "execution_count": 1,
   "metadata": {},
   "outputs": [],
   "source": [
    "import yfinance as yf\n",
    "import pandas as pd"
   ]
  },
  {
   "cell_type": "code",
   "execution_count": 3,
   "metadata": {},
   "outputs": [
    {
     "name": "stderr",
     "output_type": "stream",
     "text": [
      "[*********************100%***********************]  1 of 1 completed\n"
     ]
    }
   ],
   "source": [
    "df = yf.download('AAPL', start='2020-01-01', end='2024-05-01')"
   ]
  },
  {
   "cell_type": "code",
   "execution_count": 4,
   "metadata": {},
   "outputs": [
    {
     "data": {
      "text/html": [
       "<div>\n",
       "<style scoped>\n",
       "    .dataframe tbody tr th:only-of-type {\n",
       "        vertical-align: middle;\n",
       "    }\n",
       "\n",
       "    .dataframe tbody tr th {\n",
       "        vertical-align: top;\n",
       "    }\n",
       "\n",
       "    .dataframe thead th {\n",
       "        text-align: right;\n",
       "    }\n",
       "</style>\n",
       "<table border=\"1\" class=\"dataframe\">\n",
       "  <thead>\n",
       "    <tr style=\"text-align: right;\">\n",
       "      <th></th>\n",
       "      <th>Open</th>\n",
       "      <th>High</th>\n",
       "      <th>Low</th>\n",
       "      <th>Close</th>\n",
       "      <th>Adj Close</th>\n",
       "      <th>Volume</th>\n",
       "    </tr>\n",
       "    <tr>\n",
       "      <th>Date</th>\n",
       "      <th></th>\n",
       "      <th></th>\n",
       "      <th></th>\n",
       "      <th></th>\n",
       "      <th></th>\n",
       "      <th></th>\n",
       "    </tr>\n",
       "  </thead>\n",
       "  <tbody>\n",
       "    <tr>\n",
       "      <th>2020-01-02</th>\n",
       "      <td>74.059998</td>\n",
       "      <td>75.150002</td>\n",
       "      <td>73.797501</td>\n",
       "      <td>75.087502</td>\n",
       "      <td>72.876091</td>\n",
       "      <td>135480400</td>\n",
       "    </tr>\n",
       "    <tr>\n",
       "      <th>2020-01-03</th>\n",
       "      <td>74.287498</td>\n",
       "      <td>75.144997</td>\n",
       "      <td>74.125000</td>\n",
       "      <td>74.357498</td>\n",
       "      <td>72.167610</td>\n",
       "      <td>146322800</td>\n",
       "    </tr>\n",
       "    <tr>\n",
       "      <th>2020-01-06</th>\n",
       "      <td>73.447502</td>\n",
       "      <td>74.989998</td>\n",
       "      <td>73.187500</td>\n",
       "      <td>74.949997</td>\n",
       "      <td>72.742676</td>\n",
       "      <td>118387200</td>\n",
       "    </tr>\n",
       "    <tr>\n",
       "      <th>2020-01-07</th>\n",
       "      <td>74.959999</td>\n",
       "      <td>75.224998</td>\n",
       "      <td>74.370003</td>\n",
       "      <td>74.597504</td>\n",
       "      <td>72.400520</td>\n",
       "      <td>108872000</td>\n",
       "    </tr>\n",
       "    <tr>\n",
       "      <th>2020-01-08</th>\n",
       "      <td>74.290001</td>\n",
       "      <td>76.110001</td>\n",
       "      <td>74.290001</td>\n",
       "      <td>75.797501</td>\n",
       "      <td>73.565201</td>\n",
       "      <td>132079200</td>\n",
       "    </tr>\n",
       "    <tr>\n",
       "      <th>...</th>\n",
       "      <td>...</td>\n",
       "      <td>...</td>\n",
       "      <td>...</td>\n",
       "      <td>...</td>\n",
       "      <td>...</td>\n",
       "      <td>...</td>\n",
       "    </tr>\n",
       "    <tr>\n",
       "      <th>2024-04-24</th>\n",
       "      <td>166.539993</td>\n",
       "      <td>169.300003</td>\n",
       "      <td>166.210007</td>\n",
       "      <td>169.020004</td>\n",
       "      <td>168.595917</td>\n",
       "      <td>48251800</td>\n",
       "    </tr>\n",
       "    <tr>\n",
       "      <th>2024-04-25</th>\n",
       "      <td>169.529999</td>\n",
       "      <td>170.610001</td>\n",
       "      <td>168.149994</td>\n",
       "      <td>169.889999</td>\n",
       "      <td>169.463730</td>\n",
       "      <td>50558300</td>\n",
       "    </tr>\n",
       "    <tr>\n",
       "      <th>2024-04-26</th>\n",
       "      <td>169.880005</td>\n",
       "      <td>171.339996</td>\n",
       "      <td>169.179993</td>\n",
       "      <td>169.300003</td>\n",
       "      <td>168.875214</td>\n",
       "      <td>44838400</td>\n",
       "    </tr>\n",
       "    <tr>\n",
       "      <th>2024-04-29</th>\n",
       "      <td>173.369995</td>\n",
       "      <td>176.029999</td>\n",
       "      <td>173.100006</td>\n",
       "      <td>173.500000</td>\n",
       "      <td>173.064667</td>\n",
       "      <td>68169400</td>\n",
       "    </tr>\n",
       "    <tr>\n",
       "      <th>2024-04-30</th>\n",
       "      <td>173.330002</td>\n",
       "      <td>174.990005</td>\n",
       "      <td>170.000000</td>\n",
       "      <td>170.330002</td>\n",
       "      <td>169.902618</td>\n",
       "      <td>65934800</td>\n",
       "    </tr>\n",
       "  </tbody>\n",
       "</table>\n",
       "<p>1089 rows × 6 columns</p>\n",
       "</div>"
      ],
      "text/plain": [
       "                  Open        High         Low       Close   Adj Close  \\\n",
       "Date                                                                     \n",
       "2020-01-02   74.059998   75.150002   73.797501   75.087502   72.876091   \n",
       "2020-01-03   74.287498   75.144997   74.125000   74.357498   72.167610   \n",
       "2020-01-06   73.447502   74.989998   73.187500   74.949997   72.742676   \n",
       "2020-01-07   74.959999   75.224998   74.370003   74.597504   72.400520   \n",
       "2020-01-08   74.290001   76.110001   74.290001   75.797501   73.565201   \n",
       "...                ...         ...         ...         ...         ...   \n",
       "2024-04-24  166.539993  169.300003  166.210007  169.020004  168.595917   \n",
       "2024-04-25  169.529999  170.610001  168.149994  169.889999  169.463730   \n",
       "2024-04-26  169.880005  171.339996  169.179993  169.300003  168.875214   \n",
       "2024-04-29  173.369995  176.029999  173.100006  173.500000  173.064667   \n",
       "2024-04-30  173.330002  174.990005  170.000000  170.330002  169.902618   \n",
       "\n",
       "               Volume  \n",
       "Date                   \n",
       "2020-01-02  135480400  \n",
       "2020-01-03  146322800  \n",
       "2020-01-06  118387200  \n",
       "2020-01-07  108872000  \n",
       "2020-01-08  132079200  \n",
       "...               ...  \n",
       "2024-04-24   48251800  \n",
       "2024-04-25   50558300  \n",
       "2024-04-26   44838400  \n",
       "2024-04-29   68169400  \n",
       "2024-04-30   65934800  \n",
       "\n",
       "[1089 rows x 6 columns]"
      ]
     },
     "execution_count": 4,
     "metadata": {},
     "output_type": "execute_result"
    }
   ],
   "source": [
    "df"
   ]
  },
  {
   "cell_type": "code",
   "execution_count": null,
   "metadata": {},
   "outputs": [],
   "source": [
    "df['ret_20'] = df.Close.pct_change(20)"
   ]
  },
  {
   "cell_type": "code",
   "execution_count": null,
   "metadata": {},
   "outputs": [],
   "source": [
    "df['signal'] = df.ret_20 > 0.05"
   ]
  },
  {
   "cell_type": "code",
   "execution_count": null,
   "metadata": {},
   "outputs": [],
   "source": [
    "df.dropna(inplace=True)"
   ]
  },
  {
   "cell_type": "code",
   "execution_count": null,
   "metadata": {},
   "outputs": [],
   "source": [
    "df['buyprice'] = df.Open.shift(-1)"
   ]
  },
  {
   "cell_type": "code",
   "execution_count": null,
   "metadata": {},
   "outputs": [],
   "source": [
    "df.head(8)"
   ]
  },
  {
   "cell_type": "code",
   "execution_count": null,
   "metadata": {},
   "outputs": [],
   "source": [
    "profits = []\n",
    "in_position = False\n",
    "sellidx = pd.to_datetime('1900-01-01')\n",
    "\n",
    "for index,row in df.iterrows():\n",
    "    if not in_position and row.signal and index > sellidx:\n",
    "        buyprice = df.loc[index:][0:1].buyprice.values[0]\n",
    "        in_position = True\n",
    "    if in_position:\n",
    "        sellprice = df.loc[index:][5:6].Close.values[0]\n",
    "        sellidx = df.loc[index:][5:6].index\n",
    "        profit = (sellprice - buyprice) / buyprice\n",
    "        profits.append(profit)\n",
    "        in_position = False\n"
   ]
  },
  {
   "cell_type": "code",
   "execution_count": null,
   "metadata": {},
   "outputs": [],
   "source": [
    "pd.Series(profits).plot()"
   ]
  },
  {
   "cell_type": "code",
   "execution_count": null,
   "metadata": {},
   "outputs": [],
   "source": [
    "(pd.Series(profits) + 1).prod() - 1"
   ]
  },
  {
   "cell_type": "code",
   "execution_count": null,
   "metadata": {},
   "outputs": [],
   "source": [
    "(pd.Series(profits) + 1).cumprod().plot()"
   ]
  }
 ],
 "metadata": {
  "kernelspec": {
   "display_name": "venv",
   "language": "python",
   "name": "python3"
  },
  "language_info": {
   "codemirror_mode": {
    "name": "ipython",
    "version": 3
   },
   "file_extension": ".py",
   "mimetype": "text/x-python",
   "name": "python",
   "nbconvert_exporter": "python",
   "pygments_lexer": "ipython3",
   "version": "3.12.3"
  }
 },
 "nbformat": 4,
 "nbformat_minor": 2
}
