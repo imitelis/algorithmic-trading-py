{
 "cells": [
  {
   "cell_type": "code",
   "execution_count": null,
   "metadata": {},
   "outputs": [],
   "source": [
    "import pandas as pd\n",
    "import yfinance as yf"
   ]
  },
  {
   "cell_type": "code",
   "execution_count": null,
   "metadata": {},
   "outputs": [],
   "source": [
    "df = yf.download('APPL', start='2020-01-01')"
   ]
  },
  {
   "cell_type": "code",
   "execution_count": null,
   "metadata": {},
   "outputs": [],
   "source": [
    "df"
   ]
  },
  {
   "cell_type": "code",
   "execution_count": null,
   "metadata": {},
   "outputs": [],
   "source": [
    "def create_renko(df, brick_size):\n",
    "    renko_list = []\n",
    "    previous_price = df.iloc[0]['Adj Close']\n",
    "    for index, row in df.iterrows():\n",
    "        price = row['Adj Close']\n",
    "        while abs(price - previous_price) >= brick_size:\n",
    "            if price > previous_price:\n",
    "                previous_price += brick_size\n",
    "                renko_list.append({'Date': index, 'Close': previous_price, 'Brick': 'up'})\n",
    "            else:\n",
    "                previous_price -= brick_size\n",
    "                renko_list.append({'Date': index, 'Close': previous_price, 'Brick': 'down'})\n",
    "    renko_df = pd.DateFrame(renko_list)\n",
    "    return renko_df"
   ]
  },
  {
   "cell_type": "code",
   "execution_count": null,
   "metadata": {},
   "outputs": [],
   "source": [
    "renko_df = create_renko(df, 20)"
   ]
  },
  {
   "cell_type": "code",
   "execution_count": null,
   "metadata": {},
   "outputs": [],
   "source": [
    "renko_df"
   ]
  },
  {
   "cell_type": "code",
   "execution_count": null,
   "metadata": {},
   "outputs": [],
   "source": [
    "initial_balance = 10000\n",
    "balance = initial_balance\n",
    "position = 0\n",
    "\n",
    "for i in range(len(renko_df)):\n",
    "\n",
    "    # Buy signal: Upward reversal or the first upward brick\n",
    "    if renko_df.iloc[i]['Brick'] == 'up' and (i == 0 or renko_df.iloc[i-1]['Brick'] == 'down'):\n",
    "        if position == 0:   # Ensure we are not already holding a position\n",
    "            buy_price = renko_df.iloc[i]['Close']\n",
    "            position = balance / buy_price\n",
    "            balance = 0\n",
    "            print(f\"Bought at {buy_price} on {renko_df.iloc[i]['Date']}\")\n",
    "    \n",
    "    # Sell signal: Downward reversal\n",
    "    elif renko_df.iloc[i]['Brick'] == 'down' and renko_df.iloc[i-1]['Brick'] == 'up':\n",
    "        if position > 0:\n",
    "            sell_price = renko_df.iloc[i]['Close']\n",
    "            balance = position * sell_price\n",
    "            position = 0    # Reset position\n",
    "            print(f\"Sold at {sell_price} on {renko_df.iloc[i]['Date']}\")\n",
    "\n",
    "if position > 0:\n",
    "    balance = position * renko_df.iloc[-1]['Close']\n",
    "\n",
    "print(f\"Initial balance: {initial_balance}\")\n",
    "print(f\"Final balance: {balance}\")\n"
   ]
  },
  {
   "cell_type": "code",
   "execution_count": null,
   "metadata": {},
   "outputs": [],
   "source": [
    "renko_df"
   ]
  }
 ],
 "metadata": {
  "language_info": {
   "name": "python"
  }
 },
 "nbformat": 4,
 "nbformat_minor": 2
}
