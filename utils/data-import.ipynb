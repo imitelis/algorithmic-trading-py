{
 "cells": [
  {
   "cell_type": "code",
   "execution_count": null,
   "metadata": {},
   "outputs": [],
   "source": [
    "import pandas as pd\n",
    "from sqlalchemy import create_engine\n",
    "# pip install python-binance\n",
    "from binance.client import Client\n",
    "from binance import BinanceSocketManager"
   ]
  },
  {
   "cell_type": "code",
   "execution_count": null,
   "metadata": {},
   "outputs": [],
   "source": [
    "client = Client()\n",
    "bsm = BinanceSocketManager(client)\n",
    "\n",
    "socket = bsm.kline_socket('BTCUSDT')\n",
    "await socket.__aenter__()\n",
    "msg = await socket.recv()\n",
    "\n",
    "print(msg)\n",
    "await socket.__aexit__(None, None, None)"
   ]
  },
  {
   "cell_type": "code",
   "execution_count": null,
   "metadata": {},
   "outputs": [],
   "source": [
    "def datatransfo(msg):\n",
    "    df = pd.DataFrame({'Time':msg['E'], 'Price':msg['k']['c']}, index=[0])\n",
    "    df.Price = df.Price.astype(float)\n",
    "    df.Time = pd.to_datetime(df.Time, unit='ms')\n",
    "    return df"
   ]
  },
  {
   "cell_type": "code",
   "execution_count": null,
   "metadata": {},
   "outputs": [],
   "source": [
    "datatransfo(msg)"
   ]
  },
  {
   "cell_type": "code",
   "execution_count": null,
   "metadata": {},
   "outputs": [],
   "source": [
    "engine = create_engine('sqlite:///BTCUSDTstream.db')"
   ]
  },
  {
   "cell_type": "code",
   "execution_count": null,
   "metadata": {},
   "outputs": [],
   "source": [
    "current_event = pd.Series(pd.to_datetime(0))\n",
    "while True:\n",
    "    await socket.__aenter__()\n",
    "    msg = await socket.recv()\n",
    "    await socket.__aexit__(None, None, None)\n",
    "    df = datatransfo(msg)\n",
    "    if df.Time.values > current_event.values:\n",
    "        current_event = df.Time\n",
    "        df.to_sql('BTCUSDT', engine, if_exists='append', index=False)\n"
   ]
  }
 ],
 "metadata": {
  "language_info": {
   "name": "python"
  }
 },
 "nbformat": 4,
 "nbformat_minor": 2
}
