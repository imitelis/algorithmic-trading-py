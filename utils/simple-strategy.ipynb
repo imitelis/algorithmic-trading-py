{
 "cells": [
  {
   "cell_type": "code",
   "execution_count": null,
   "metadata": {},
   "outputs": [],
   "source": [
    "import pandas as pd\n",
    "import yfinance as yf\n",
    "\n",
    "\"\"\"\n",
    "Example:\n",
    "Buy S&P500 when close > 100D moving average\n",
    "Sell the S&P500 wen close < 100D moving average\n",
    "\"\"\""
   ]
  },
  {
   "cell_type": "code",
   "execution_count": null,
   "metadata": {},
   "outputs": [],
   "source": [
    "df = yf.download('^GSPC', start='2015-01-01')\n",
    "df"
   ]
  },
  {
   "cell_type": "code",
   "execution_count": null,
   "metadata": {},
   "outputs": [],
   "source": [
    "\n",
    "df['MA100'] = df.Close.rolling(100).mean()\n",
    "df"
   ]
  },
  {
   "cell_type": "code",
   "execution_count": null,
   "metadata": {},
   "outputs": [],
   "source": [
    "df.dropna(inplace=True)\n",
    "df"
   ]
  },
  {
   "cell_type": "code",
   "execution_count": null,
   "metadata": {},
   "outputs": [],
   "source": [
    "df[['Close', 'MA100']].plot()\n",
    "df"
   ]
  },
  {
   "cell_type": "code",
   "execution_count": null,
   "metadata": {},
   "outputs": [],
   "source": [
    "\n",
    "df['price'] = df.Open.shift(-1)\n",
    "df"
   ]
  },
  {
   "cell_type": "code",
   "execution_count": null,
   "metadata": {},
   "outputs": [],
   "source": [
    "buy_prices, sell_prices = [], []\n",
    "\n",
    "in_position = False\n",
    "\n",
    "for index, row in df.iterrows():\n",
    "    if not in_position and row.Close > row.MA100:\n",
    "        buy_prices.append(row.price)\n",
    "        in_position = True\n",
    "    if in_position and row.Close < row.MA100:\n",
    "        sell_prices.append(row.price)\n",
    "        in_position = False\n",
    "if in_position:\n",
    "    sell_prices.append(row.Close)"
   ]
  },
  {
   "cell_type": "code",
   "execution_count": null,
   "metadata": {},
   "outputs": [],
   "source": [
    "len(buy_prices), len(sell_prices)\n",
    "\n",
    "trades = pd.DataFrame({'buys': buy_prices, 'sells': sell_prices})\n",
    "trades['profit'] = (trades.sells - trades.buys)\n",
    "\n",
    "trades"
   ]
  },
  {
   "cell_type": "code",
   "execution_count": null,
   "metadata": {},
   "outputs": [],
   "source": [
    "(trades.profit + 1).prod() - 1\n",
    "\n",
    "1000 * (trades.profit + 1).prod()\n",
    "\n",
    "df"
   ]
  }
 ],
 "metadata": {
  "language_info": {
   "name": "python"
  }
 },
 "nbformat": 4,
 "nbformat_minor": 2
}
